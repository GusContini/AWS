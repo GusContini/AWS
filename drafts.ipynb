{
 "cells": [
  {
   "attachments": {},
   "cell_type": "markdown",
   "metadata": {},
   "source": [
    "### Installs"
   ]
  },
  {
   "cell_type": "code",
   "execution_count": 2,
   "metadata": {},
   "outputs": [
    {
     "name": "stdout",
     "output_type": "stream",
     "text": [
      "Collecting boto3\n",
      "  Downloading boto3-1.34.136-py3-none-any.whl.metadata (6.6 kB)\n",
      "Collecting botocore<1.35.0,>=1.34.136 (from boto3)\n",
      "  Downloading botocore-1.34.136-py3-none-any.whl.metadata (5.7 kB)\n",
      "Collecting jmespath<2.0.0,>=0.7.1 (from boto3)\n",
      "  Downloading jmespath-1.0.1-py3-none-any.whl.metadata (7.6 kB)\n",
      "Collecting s3transfer<0.11.0,>=0.10.0 (from boto3)\n",
      "  Downloading s3transfer-0.10.2-py3-none-any.whl.metadata (1.7 kB)\n",
      "Requirement already satisfied: python-dateutil<3.0.0,>=2.1 in c:\\users\\chafu\\appdata\\local\\packages\\pythonsoftwarefoundation.python.3.10_qbz5n2kfra8p0\\localcache\\local-packages\\python310\\site-packages (from botocore<1.35.0,>=1.34.136->boto3) (2.8.2)\n",
      "Requirement already satisfied: urllib3!=2.2.0,<3,>=1.25.4 in c:\\users\\chafu\\appdata\\local\\packages\\pythonsoftwarefoundation.python.3.10_qbz5n2kfra8p0\\localcache\\local-packages\\python310\\site-packages (from botocore<1.35.0,>=1.34.136->boto3) (1.26.18)\n",
      "Requirement already satisfied: six>=1.5 in c:\\users\\chafu\\appdata\\local\\packages\\pythonsoftwarefoundation.python.3.10_qbz5n2kfra8p0\\localcache\\local-packages\\python310\\site-packages (from python-dateutil<3.0.0,>=2.1->botocore<1.35.0,>=1.34.136->boto3) (1.16.0)\n",
      "Downloading boto3-1.34.136-py3-none-any.whl (139 kB)\n",
      "   ---------------------------------------- 0.0/139.2 kB ? eta -:--:--\n",
      "   ---------------------------------------- 139.2/139.2 kB 4.2 MB/s eta 0:00:00\n",
      "Downloading botocore-1.34.136-py3-none-any.whl (12.4 MB)\n",
      "   ---------------------------------------- 0.0/12.4 MB ? eta -:--:--\n",
      "    --------------------------------------- 0.2/12.4 MB 5.0 MB/s eta 0:00:03\n",
      "   - -------------------------------------- 0.4/12.4 MB 4.6 MB/s eta 0:00:03\n",
      "   -- ------------------------------------- 0.7/12.4 MB 5.0 MB/s eta 0:00:03\n",
      "   --- ------------------------------------ 1.0/12.4 MB 5.2 MB/s eta 0:00:03\n",
      "   ---- ----------------------------------- 1.3/12.4 MB 5.7 MB/s eta 0:00:02\n",
      "   ----- ---------------------------------- 1.6/12.4 MB 5.7 MB/s eta 0:00:02\n",
      "   ------ --------------------------------- 2.0/12.4 MB 5.9 MB/s eta 0:00:02\n",
      "   ------- -------------------------------- 2.2/12.4 MB 5.9 MB/s eta 0:00:02\n",
      "   ------- -------------------------------- 2.4/12.4 MB 5.8 MB/s eta 0:00:02\n",
      "   --------- ------------------------------ 2.8/12.4 MB 6.0 MB/s eta 0:00:02\n",
      "   --------- ------------------------------ 3.1/12.4 MB 6.3 MB/s eta 0:00:02\n",
      "   ----------- ---------------------------- 3.4/12.4 MB 6.2 MB/s eta 0:00:02\n",
      "   ------------ --------------------------- 3.8/12.4 MB 6.4 MB/s eta 0:00:02\n",
      "   ------------- -------------------------- 4.2/12.4 MB 6.4 MB/s eta 0:00:02\n",
      "   --------------- ------------------------ 4.6/12.4 MB 6.6 MB/s eta 0:00:02\n",
      "   ---------------- ----------------------- 4.9/12.4 MB 6.7 MB/s eta 0:00:02\n",
      "   ----------------- ---------------------- 5.3/12.4 MB 6.6 MB/s eta 0:00:02\n",
      "   ------------------ --------------------- 5.7/12.4 MB 6.8 MB/s eta 0:00:01\n",
      "   ------------------- -------------------- 6.0/12.4 MB 6.8 MB/s eta 0:00:01\n",
      "   -------------------- ------------------- 6.4/12.4 MB 7.0 MB/s eta 0:00:01\n",
      "   ---------------------- ----------------- 6.8/12.4 MB 6.9 MB/s eta 0:00:01\n",
      "   ----------------------- ---------------- 7.1/12.4 MB 7.0 MB/s eta 0:00:01\n",
      "   ------------------------ --------------- 7.6/12.4 MB 7.2 MB/s eta 0:00:01\n",
      "   ------------------------- -------------- 7.9/12.4 MB 7.1 MB/s eta 0:00:01\n",
      "   -------------------------- ------------- 8.3/12.4 MB 7.1 MB/s eta 0:00:01\n",
      "   --------------------------- ------------ 8.6/12.4 MB 7.1 MB/s eta 0:00:01\n",
      "   ----------------------------- ---------- 9.1/12.4 MB 7.3 MB/s eta 0:00:01\n",
      "   ------------------------------- -------- 9.7/12.4 MB 7.4 MB/s eta 0:00:01\n",
      "   ------------------------------- -------- 9.9/12.4 MB 7.3 MB/s eta 0:00:01\n",
      "   -------------------------------- ------- 9.9/12.4 MB 7.1 MB/s eta 0:00:01\n",
      "   ---------------------------------- ----- 10.6/12.4 MB 7.4 MB/s eta 0:00:01\n",
      "   ---------------------------------- ----- 10.8/12.4 MB 7.4 MB/s eta 0:00:01\n",
      "   ------------------------------------ --- 11.4/12.4 MB 7.7 MB/s eta 0:00:01\n",
      "   ------------------------------------- -- 11.5/12.4 MB 7.7 MB/s eta 0:00:01\n",
      "   ---------------------------------------  12.2/12.4 MB 7.8 MB/s eta 0:00:01\n",
      "   ---------------------------------------- 12.4/12.4 MB 7.8 MB/s eta 0:00:00\n",
      "Downloading jmespath-1.0.1-py3-none-any.whl (20 kB)\n",
      "Downloading s3transfer-0.10.2-py3-none-any.whl (82 kB)\n",
      "   ---------------------------------------- 0.0/82.7 kB ? eta -:--:--\n",
      "   ---------------------------------------- 82.7/82.7 kB 4.5 MB/s eta 0:00:00\n",
      "Installing collected packages: jmespath, botocore, s3transfer, boto3\n",
      "Successfully installed boto3-1.34.136 botocore-1.34.136 jmespath-1.0.1 s3transfer-0.10.2\n"
     ]
    },
    {
     "name": "stderr",
     "output_type": "stream",
     "text": [
      "\n",
      "[notice] A new release of pip is available: 24.0 -> 24.1.1\n",
      "[notice] To update, run: C:\\Users\\chafu\\AppData\\Local\\Microsoft\\WindowsApps\\PythonSoftwareFoundation.Python.3.10_qbz5n2kfra8p0\\python.exe -m pip install --upgrade pip\n"
     ]
    }
   ],
   "source": [
    "!pip install boto3"
   ]
  },
  {
   "cell_type": "code",
   "execution_count": 3,
   "metadata": {},
   "outputs": [
    {
     "name": "stdout",
     "output_type": "stream",
     "text": [
      "Requirement already satisfied: botocore in c:\\users\\chafu\\appdata\\local\\packages\\pythonsoftwarefoundation.python.3.10_qbz5n2kfra8p0\\localcache\\local-packages\\python310\\site-packages (1.34.136)\n",
      "Requirement already satisfied: jmespath<2.0.0,>=0.7.1 in c:\\users\\chafu\\appdata\\local\\packages\\pythonsoftwarefoundation.python.3.10_qbz5n2kfra8p0\\localcache\\local-packages\\python310\\site-packages (from botocore) (1.0.1)\n",
      "Requirement already satisfied: python-dateutil<3.0.0,>=2.1 in c:\\users\\chafu\\appdata\\local\\packages\\pythonsoftwarefoundation.python.3.10_qbz5n2kfra8p0\\localcache\\local-packages\\python310\\site-packages (from botocore) (2.8.2)\n",
      "Requirement already satisfied: urllib3!=2.2.0,<3,>=1.25.4 in c:\\users\\chafu\\appdata\\local\\packages\\pythonsoftwarefoundation.python.3.10_qbz5n2kfra8p0\\localcache\\local-packages\\python310\\site-packages (from botocore) (1.26.18)\n",
      "Requirement already satisfied: six>=1.5 in c:\\users\\chafu\\appdata\\local\\packages\\pythonsoftwarefoundation.python.3.10_qbz5n2kfra8p0\\localcache\\local-packages\\python310\\site-packages (from python-dateutil<3.0.0,>=2.1->botocore) (1.16.0)\n"
     ]
    },
    {
     "name": "stderr",
     "output_type": "stream",
     "text": [
      "\n",
      "[notice] A new release of pip is available: 24.0 -> 24.1.1\n",
      "[notice] To update, run: C:\\Users\\chafu\\AppData\\Local\\Microsoft\\WindowsApps\\PythonSoftwareFoundation.Python.3.10_qbz5n2kfra8p0\\python.exe -m pip install --upgrade pip\n"
     ]
    }
   ],
   "source": [
    "!pip install botocore"
   ]
  },
  {
   "attachments": {},
   "cell_type": "markdown",
   "metadata": {},
   "source": [
    "### Exploration"
   ]
  },
  {
   "cell_type": "code",
   "execution_count": 4,
   "metadata": {},
   "outputs": [],
   "source": [
    "import boto3\n",
    "import botocore.config"
   ]
  },
  {
   "cell_type": "code",
   "execution_count": null,
   "metadata": {},
   "outputs": [],
   "source": [
    "def using_bedrock(message:str)-> str:\n",
    "    prompt=f\"\"\"\n",
    "    \n",
    "    \"\"\""
   ]
  }
 ],
 "metadata": {
  "kernelspec": {
   "display_name": "Python 3",
   "language": "python",
   "name": "python3"
  },
  "language_info": {
   "codemirror_mode": {
    "name": "ipython",
    "version": 3
   },
   "file_extension": ".py",
   "mimetype": "text/x-python",
   "name": "python",
   "nbconvert_exporter": "python",
   "pygments_lexer": "ipython3",
   "version": "3.10.11"
  },
  "orig_nbformat": 4,
  "vscode": {
   "interpreter": {
    "hash": "07491422174961e3509a6bd5f7bccd2c36592802c7b7225d12f0661f999904d5"
   }
  }
 },
 "nbformat": 4,
 "nbformat_minor": 2
}
