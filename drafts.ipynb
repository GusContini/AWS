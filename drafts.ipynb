{
 "cells": [
  {
   "attachments": {},
   "cell_type": "markdown",
   "metadata": {},
   "source": [
    "### Installs"
   ]
  },
  {
   "cell_type": "code",
   "execution_count": 2,
   "metadata": {},
   "outputs": [
    {
     "name": "stdout",
     "output_type": "stream",
     "text": [
      "Collecting boto3\n",
      "  Downloading boto3-1.34.136-py3-none-any.whl.metadata (6.6 kB)\n",
      "Collecting botocore<1.35.0,>=1.34.136 (from boto3)\n",
      "  Downloading botocore-1.34.136-py3-none-any.whl.metadata (5.7 kB)\n",
      "Collecting jmespath<2.0.0,>=0.7.1 (from boto3)\n",
      "  Downloading jmespath-1.0.1-py3-none-any.whl.metadata (7.6 kB)\n",
      "Collecting s3transfer<0.11.0,>=0.10.0 (from boto3)\n",
      "  Downloading s3transfer-0.10.2-py3-none-any.whl.metadata (1.7 kB)\n",
      "Requirement already satisfied: python-dateutil<3.0.0,>=2.1 in c:\\users\\chafu\\appdata\\local\\packages\\pythonsoftwarefoundation.python.3.10_qbz5n2kfra8p0\\localcache\\local-packages\\python310\\site-packages (from botocore<1.35.0,>=1.34.136->boto3) (2.8.2)\n",
      "Requirement already satisfied: urllib3!=2.2.0,<3,>=1.25.4 in c:\\users\\chafu\\appdata\\local\\packages\\pythonsoftwarefoundation.python.3.10_qbz5n2kfra8p0\\localcache\\local-packages\\python310\\site-packages (from botocore<1.35.0,>=1.34.136->boto3) (1.26.18)\n",
      "Requirement already satisfied: six>=1.5 in c:\\users\\chafu\\appdata\\local\\packages\\pythonsoftwarefoundation.python.3.10_qbz5n2kfra8p0\\localcache\\local-packages\\python310\\site-packages (from python-dateutil<3.0.0,>=2.1->botocore<1.35.0,>=1.34.136->boto3) (1.16.0)\n",
      "Downloading boto3-1.34.136-py3-none-any.whl (139 kB)\n",
      "   ---------------------------------------- 0.0/139.2 kB ? eta -:--:--\n",
      "   ---------------------------------------- 139.2/139.2 kB 4.2 MB/s eta 0:00:00\n",
      "Downloading botocore-1.34.136-py3-none-any.whl (12.4 MB)\n",
      "   ---------------------------------------- 0.0/12.4 MB ? eta -:--:--\n",
      "    --------------------------------------- 0.2/12.4 MB 5.0 MB/s eta 0:00:03\n",
      "   - -------------------------------------- 0.4/12.4 MB 4.6 MB/s eta 0:00:03\n",
      "   -- ------------------------------------- 0.7/12.4 MB 5.0 MB/s eta 0:00:03\n",
      "   --- ------------------------------------ 1.0/12.4 MB 5.2 MB/s eta 0:00:03\n",
      "   ---- ----------------------------------- 1.3/12.4 MB 5.7 MB/s eta 0:00:02\n",
      "   ----- ---------------------------------- 1.6/12.4 MB 5.7 MB/s eta 0:00:02\n",
      "   ------ --------------------------------- 2.0/12.4 MB 5.9 MB/s eta 0:00:02\n",
      "   ------- -------------------------------- 2.2/12.4 MB 5.9 MB/s eta 0:00:02\n",
      "   ------- -------------------------------- 2.4/12.4 MB 5.8 MB/s eta 0:00:02\n",
      "   --------- ------------------------------ 2.8/12.4 MB 6.0 MB/s eta 0:00:02\n",
      "   --------- ------------------------------ 3.1/12.4 MB 6.3 MB/s eta 0:00:02\n",
      "   ----------- ---------------------------- 3.4/12.4 MB 6.2 MB/s eta 0:00:02\n",
      "   ------------ --------------------------- 3.8/12.4 MB 6.4 MB/s eta 0:00:02\n",
      "   ------------- -------------------------- 4.2/12.4 MB 6.4 MB/s eta 0:00:02\n",
      "   --------------- ------------------------ 4.6/12.4 MB 6.6 MB/s eta 0:00:02\n",
      "   ---------------- ----------------------- 4.9/12.4 MB 6.7 MB/s eta 0:00:02\n",
      "   ----------------- ---------------------- 5.3/12.4 MB 6.6 MB/s eta 0:00:02\n",
      "   ------------------ --------------------- 5.7/12.4 MB 6.8 MB/s eta 0:00:01\n",
      "   ------------------- -------------------- 6.0/12.4 MB 6.8 MB/s eta 0:00:01\n",
      "   -------------------- ------------------- 6.4/12.4 MB 7.0 MB/s eta 0:00:01\n",
      "   ---------------------- ----------------- 6.8/12.4 MB 6.9 MB/s eta 0:00:01\n",
      "   ----------------------- ---------------- 7.1/12.4 MB 7.0 MB/s eta 0:00:01\n",
      "   ------------------------ --------------- 7.6/12.4 MB 7.2 MB/s eta 0:00:01\n",
      "   ------------------------- -------------- 7.9/12.4 MB 7.1 MB/s eta 0:00:01\n",
      "   -------------------------- ------------- 8.3/12.4 MB 7.1 MB/s eta 0:00:01\n",
      "   --------------------------- ------------ 8.6/12.4 MB 7.1 MB/s eta 0:00:01\n",
      "   ----------------------------- ---------- 9.1/12.4 MB 7.3 MB/s eta 0:00:01\n",
      "   ------------------------------- -------- 9.7/12.4 MB 7.4 MB/s eta 0:00:01\n",
      "   ------------------------------- -------- 9.9/12.4 MB 7.3 MB/s eta 0:00:01\n",
      "   -------------------------------- ------- 9.9/12.4 MB 7.1 MB/s eta 0:00:01\n",
      "   ---------------------------------- ----- 10.6/12.4 MB 7.4 MB/s eta 0:00:01\n",
      "   ---------------------------------- ----- 10.8/12.4 MB 7.4 MB/s eta 0:00:01\n",
      "   ------------------------------------ --- 11.4/12.4 MB 7.7 MB/s eta 0:00:01\n",
      "   ------------------------------------- -- 11.5/12.4 MB 7.7 MB/s eta 0:00:01\n",
      "   ---------------------------------------  12.2/12.4 MB 7.8 MB/s eta 0:00:01\n",
      "   ---------------------------------------- 12.4/12.4 MB 7.8 MB/s eta 0:00:00\n",
      "Downloading jmespath-1.0.1-py3-none-any.whl (20 kB)\n",
      "Downloading s3transfer-0.10.2-py3-none-any.whl (82 kB)\n",
      "   ---------------------------------------- 0.0/82.7 kB ? eta -:--:--\n",
      "   ---------------------------------------- 82.7/82.7 kB 4.5 MB/s eta 0:00:00\n",
      "Installing collected packages: jmespath, botocore, s3transfer, boto3\n",
      "Successfully installed boto3-1.34.136 botocore-1.34.136 jmespath-1.0.1 s3transfer-0.10.2\n"
     ]
    },
    {
     "name": "stderr",
     "output_type": "stream",
     "text": [
      "\n",
      "[notice] A new release of pip is available: 24.0 -> 24.1.1\n",
      "[notice] To update, run: C:\\Users\\chafu\\AppData\\Local\\Microsoft\\WindowsApps\\PythonSoftwareFoundation.Python.3.10_qbz5n2kfra8p0\\python.exe -m pip install --upgrade pip\n"
     ]
    }
   ],
   "source": [
    "!pip install boto3"
   ]
  },
  {
   "cell_type": "code",
   "execution_count": 3,
   "metadata": {},
   "outputs": [
    {
     "name": "stdout",
     "output_type": "stream",
     "text": [
      "Requirement already satisfied: botocore in c:\\users\\chafu\\appdata\\local\\packages\\pythonsoftwarefoundation.python.3.10_qbz5n2kfra8p0\\localcache\\local-packages\\python310\\site-packages (1.34.136)\n",
      "Requirement already satisfied: jmespath<2.0.0,>=0.7.1 in c:\\users\\chafu\\appdata\\local\\packages\\pythonsoftwarefoundation.python.3.10_qbz5n2kfra8p0\\localcache\\local-packages\\python310\\site-packages (from botocore) (1.0.1)\n",
      "Requirement already satisfied: python-dateutil<3.0.0,>=2.1 in c:\\users\\chafu\\appdata\\local\\packages\\pythonsoftwarefoundation.python.3.10_qbz5n2kfra8p0\\localcache\\local-packages\\python310\\site-packages (from botocore) (2.8.2)\n",
      "Requirement already satisfied: urllib3!=2.2.0,<3,>=1.25.4 in c:\\users\\chafu\\appdata\\local\\packages\\pythonsoftwarefoundation.python.3.10_qbz5n2kfra8p0\\localcache\\local-packages\\python310\\site-packages (from botocore) (1.26.18)\n",
      "Requirement already satisfied: six>=1.5 in c:\\users\\chafu\\appdata\\local\\packages\\pythonsoftwarefoundation.python.3.10_qbz5n2kfra8p0\\localcache\\local-packages\\python310\\site-packages (from python-dateutil<3.0.0,>=2.1->botocore) (1.16.0)\n"
     ]
    },
    {
     "name": "stderr",
     "output_type": "stream",
     "text": [
      "\n",
      "[notice] A new release of pip is available: 24.0 -> 24.1.1\n",
      "[notice] To update, run: C:\\Users\\chafu\\AppData\\Local\\Microsoft\\WindowsApps\\PythonSoftwareFoundation.Python.3.10_qbz5n2kfra8p0\\python.exe -m pip install --upgrade pip\n"
     ]
    }
   ],
   "source": [
    "!pip install botocore"
   ]
  },
  {
   "cell_type": "code",
   "execution_count": 7,
   "metadata": {},
   "outputs": [
    {
     "name": "stdout",
     "output_type": "stream",
     "text": [
      "Collecting response\n",
      "  Downloading response-0.5.0-py3-none-any.whl.metadata (2.8 kB)\n",
      "Requirement already satisfied: numpy in c:\\users\\chafu\\appdata\\local\\packages\\pythonsoftwarefoundation.python.3.10_qbz5n2kfra8p0\\localcache\\local-packages\\python310\\site-packages (from response) (1.26.4)\n",
      "Requirement already satisfied: scipy in c:\\users\\chafu\\appdata\\local\\packages\\pythonsoftwarefoundation.python.3.10_qbz5n2kfra8p0\\localcache\\local-packages\\python310\\site-packages (from response) (1.10.1)\n",
      "Requirement already satisfied: matplotlib>=2.2.0 in c:\\users\\chafu\\appdata\\local\\packages\\pythonsoftwarefoundation.python.3.10_qbz5n2kfra8p0\\localcache\\local-packages\\python310\\site-packages (from response) (3.8.3)\n",
      "Requirement already satisfied: contourpy>=1.0.1 in c:\\users\\chafu\\appdata\\local\\packages\\pythonsoftwarefoundation.python.3.10_qbz5n2kfra8p0\\localcache\\local-packages\\python310\\site-packages (from matplotlib>=2.2.0->response) (1.0.6)\n",
      "Requirement already satisfied: cycler>=0.10 in c:\\users\\chafu\\appdata\\local\\packages\\pythonsoftwarefoundation.python.3.10_qbz5n2kfra8p0\\localcache\\local-packages\\python310\\site-packages (from matplotlib>=2.2.0->response) (0.11.0)\n",
      "Requirement already satisfied: fonttools>=4.22.0 in c:\\users\\chafu\\appdata\\local\\packages\\pythonsoftwarefoundation.python.3.10_qbz5n2kfra8p0\\localcache\\local-packages\\python310\\site-packages (from matplotlib>=2.2.0->response) (4.38.0)\n",
      "Requirement already satisfied: kiwisolver>=1.3.1 in c:\\users\\chafu\\appdata\\local\\packages\\pythonsoftwarefoundation.python.3.10_qbz5n2kfra8p0\\localcache\\local-packages\\python310\\site-packages (from matplotlib>=2.2.0->response) (1.4.4)\n",
      "Requirement already satisfied: packaging>=20.0 in c:\\users\\chafu\\appdata\\local\\packages\\pythonsoftwarefoundation.python.3.10_qbz5n2kfra8p0\\localcache\\local-packages\\python310\\site-packages (from matplotlib>=2.2.0->response) (21.3)\n",
      "Requirement already satisfied: pillow>=8 in c:\\users\\chafu\\appdata\\local\\packages\\pythonsoftwarefoundation.python.3.10_qbz5n2kfra8p0\\localcache\\local-packages\\python310\\site-packages (from matplotlib>=2.2.0->response) (9.3.0)\n",
      "Requirement already satisfied: pyparsing>=2.3.1 in c:\\users\\chafu\\appdata\\local\\packages\\pythonsoftwarefoundation.python.3.10_qbz5n2kfra8p0\\localcache\\local-packages\\python310\\site-packages (from matplotlib>=2.2.0->response) (3.0.9)\n",
      "Requirement already satisfied: python-dateutil>=2.7 in c:\\users\\chafu\\appdata\\local\\packages\\pythonsoftwarefoundation.python.3.10_qbz5n2kfra8p0\\localcache\\local-packages\\python310\\site-packages (from matplotlib>=2.2.0->response) (2.8.2)\n",
      "Requirement already satisfied: six>=1.5 in c:\\users\\chafu\\appdata\\local\\packages\\pythonsoftwarefoundation.python.3.10_qbz5n2kfra8p0\\localcache\\local-packages\\python310\\site-packages (from python-dateutil>=2.7->matplotlib>=2.2.0->response) (1.16.0)\n",
      "Downloading response-0.5.0-py3-none-any.whl (14 kB)\n",
      "Installing collected packages: response\n",
      "Successfully installed response-0.5.0\n"
     ]
    },
    {
     "name": "stderr",
     "output_type": "stream",
     "text": [
      "\n",
      "[notice] A new release of pip is available: 24.0 -> 24.1.1\n",
      "[notice] To update, run: C:\\Users\\chafu\\AppData\\Local\\Microsoft\\WindowsApps\\PythonSoftwareFoundation.Python.3.10_qbz5n2kfra8p0\\python.exe -m pip install --upgrade pip\n"
     ]
    }
   ],
   "source": [
    "!pip install response"
   ]
  },
  {
   "attachments": {},
   "cell_type": "markdown",
   "metadata": {},
   "source": [
    "### Exploration"
   ]
  },
  {
   "cell_type": "code",
   "execution_count": 10,
   "metadata": {},
   "outputs": [],
   "source": [
    "import boto3\n",
    "import botocore.config\n",
    "import json\n",
    "from datetime import datetime"
   ]
  },
  {
   "cell_type": "code",
   "execution_count": null,
   "metadata": {},
   "outputs": [],
   "source": [
    "import boto3\n",
    "import botocore.config\n",
    "import json\n",
    "from datetime import datetime\n",
    "\n",
    "def using_bedrock(message:str, categories:list)-> str:\n",
    "\n",
    "    prompt=f\"\"\"<s>[INST]Human: Considering the following categories options\n",
    "    {categories}, categorize the following message: {message}.\n",
    "    Assistant:[/INST]\n",
    "    \"\"\"\n",
    "\n",
    "    body={\n",
    "        \"prompt\": prompt,\n",
    "        \"max_gen_len\": 512,\n",
    "        \"temperature\": 0.5,\n",
    "        \"top_p\": 0.9,\n",
    "    }\n",
    "\n",
    "    try:\n",
    "        bedrock=boto3.client(\"bedrock-runtime\",\n",
    "                             region_name=\"us-east-1\",\n",
    "                             config=botocore.config.Config(read_timeout=300,\n",
    "                                                           retries={\n",
    "                                                               'max_attempts':3\n",
    "                                                               }))\n",
    "        response=bedrock.invoke_model(body=json.dumps(body),\n",
    "                             modelId=\"meta.llama3-70b-instruct-v1:0\")\n",
    "        \n",
    "        response_content=response.get('body').read()\n",
    "        response_data = json.loads(response_content.decode(\"utf-8\"))\n",
    "        print(response_data)\n",
    "\n",
    "        response_detail = response_data['generation']\n",
    "        \n",
    "        return response_detail\n",
    "    \n",
    "    except Exception as e:\n",
    "        print(f\"Error generating the response: {e}\")\n",
    "        return \"~\"\n",
    "\n",
    "def save_message_details_to_s3(s3_key, s3_bucket, original_message, classified_message):\n",
    "    \n",
    "    s3=boto3.client('s3')\n",
    "    current_time = datetime.now().strftime('%Y-%m-%d_%H%M%S')\n",
    "    message_to_save = f\"{current_time}\\nOriginal Message: {original_message}\\nClassified Message: {classified_message}\"\n",
    "\n",
    "    try:\n",
    "        s3.put_object(Bucket=s3_bucket, Key=s3_key, Body=message_to_save)\n",
    "        print(\"Message saved to s3\")\n",
    "    \n",
    "    except Exception as e:\n",
    "        print(f\"Error while saving the message to s3: {e}\")\n",
    "\n",
    "def lambda_handler(event, context):\n",
    "    # TODO implement\n",
    "    event=json.loads(event['body'])\n",
    "    message_categ=event['message']\n",
    "    categories = event['categories']\n",
    "    generate_message=using_bedrock(message=message_categ, categories=categories)\n",
    "\n",
    "    if generate_message:\n",
    "        current_time=datetime.now().strftime('%Y-%m-%d_%H%M%S')\n",
    "        s3_key=f\"message-output/{current_time}.txt\"\n",
    "        s3_bucket='guscontini-aws-bedrock'\n",
    "        save_message_details_to_s3(s3_key, s3_bucket, message_categ, generate_message)\n",
    "        response_body = json.dumps({'classified_message': generate_message})\n",
    "\n",
    "    else:\n",
    "        print(\"No message was generated\")\n",
    "        response_body = json.dumps({'error': 'No message was generated'})\n",
    "    \n",
    "    return {\n",
    "        'statusCode': 200,\n",
    "        'body': response_body\n",
    "    }\n"
   ]
  },
  {
   "cell_type": "code",
   "execution_count": 16,
   "metadata": {},
   "outputs": [
    {
     "name": "stdout",
     "output_type": "stream",
     "text": [
      "Classificação de mensagem realizada com sucesso!\n",
      "Resposta da API: {'classified_message': ' Política'}\n",
      "Conteúdo da mensagem: None\n"
     ]
    }
   ],
   "source": [
    "import requests\n",
    "import json\n",
    "\n",
    "def test_message_classification(message, categories):\n",
    "    # URL da sua API Gateway\n",
    "    api_url = \"https://iqzolzrrni.execute-api.us-east-1.amazonaws.com/dev/message-classification\"\n",
    "\n",
    "    # Prepare a payload para a requisição POST\n",
    "    payload = {\n",
    "        \"message\": message,\n",
    "        \"categories\": categories\n",
    "    }\n",
    "    \n",
    "    # Faça a requisição POST\n",
    "    response = requests.post(api_url, json=payload)\n",
    "\n",
    "    # Verifique o código de status da resposta\n",
    "    if response.status_code == 200:\n",
    "        print(\"Classificação de mensagem realizada com sucesso!\")\n",
    "        result = response.json()\n",
    "        print(\"Resposta da API:\", result)\n",
    "        \n",
    "        # Extraia o conteúdo da resposta (opcional)\n",
    "        message_content = result.get('body')  \n",
    "        print(\"Conteúdo da mensagem:\", message_content)\n",
    "\n",
    "    else:\n",
    "        print(\"Erro na classificação de mensagem:\", response.status_code)\n",
    "        print(\"Resposta da API:\", response.text)  # Imprima a resposta da API em caso de erro\n",
    "\n",
    "if __name__ == \"__main__\":\n",
    "    # Exemplo de uso\n",
    "    test_message = \"Joe Biden and Donald Trump are candidates to the most import office of the world\"\n",
    "    test_categories = [\"Esporte\", \"Política\", \"Tecnologia\"]\n",
    "\n",
    "    test_message_classification(test_message, test_categories)\n"
   ]
  }
 ],
 "metadata": {
  "kernelspec": {
   "display_name": "Python 3",
   "language": "python",
   "name": "python3"
  },
  "language_info": {
   "codemirror_mode": {
    "name": "ipython",
    "version": 3
   },
   "file_extension": ".py",
   "mimetype": "text/x-python",
   "name": "python",
   "nbconvert_exporter": "python",
   "pygments_lexer": "ipython3",
   "version": "3.10.11"
  },
  "orig_nbformat": 4,
  "vscode": {
   "interpreter": {
    "hash": "07491422174961e3509a6bd5f7bccd2c36592802c7b7225d12f0661f999904d5"
   }
  }
 },
 "nbformat": 4,
 "nbformat_minor": 2
}
